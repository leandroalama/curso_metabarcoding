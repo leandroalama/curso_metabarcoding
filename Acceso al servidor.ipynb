{
 "cells": [
  {
   "cell_type": "markdown",
   "id": "1f08741c",
   "metadata": {},
   "source": [
    "## **Curso Práctico: Metabarcoding de Amplicones en Estudios de Microbioma**\n",
    "\n",
    "### Acceso al Servidor\n",
    "\n",
    "Abre un terminal y sigue las instrucciones:\n",
    "\n",
    "1. Ejecuta el comando: `ssh -L 8889:localhost:8889 usuario@172.16.32.137`\n",
    "2. Ingresa la contraseña: `lenovo2020*`\n",
    "\n",
    "Ahora te encuentras en el servidor. A continuación, se presentan las instrucciones para navegar hasta el directorio del curso.\n",
    "\n",
    "### Navegación de Directorios\n",
    "\n",
    "Utiliza los siguientes comandos para moverte entre directorios:\n",
    "\n",
    "- Regresar un nivel: `cd ..`\n",
    "- Listar contenido: `ls`\n",
    "- Ingresar a un directorio: `cd nombre_directorio`\n",
    "\n",
    "Sigue estos pasos:\n",
    "\n",
    "1. Ejecuta `cd ..`\n",
    "2. Ejecuta `cd ..`\n",
    "3. Ejecuta `ls`\n",
    "4. Ejecuta `cd beta/`\n",
    "5. Ejecuta `cd Metabarcoding_curso/`\n",
    "\n",
    "### Acceso a Jupyter Notebook\n",
    "\n",
    "Para acceder a Jupyter Notebook, ejecuta el siguiente comando:\n",
    "\n",
    "`jupyter-notebook --no-browser --port 8889`\n",
    "\n",
    "Recuerda que debes utilizar el puerto 8889 para acceder correctamente.\n"
   ]
  }
 ],
 "metadata": {
  "kernelspec": {
   "display_name": "R",
   "language": "R",
   "name": "ir"
  },
  "language_info": {
   "codemirror_mode": "r",
   "file_extension": ".r",
   "mimetype": "text/x-r-source",
   "name": "R",
   "pygments_lexer": "r",
   "version": "4.1.2"
  }
 },
 "nbformat": 4,
 "nbformat_minor": 5
}
